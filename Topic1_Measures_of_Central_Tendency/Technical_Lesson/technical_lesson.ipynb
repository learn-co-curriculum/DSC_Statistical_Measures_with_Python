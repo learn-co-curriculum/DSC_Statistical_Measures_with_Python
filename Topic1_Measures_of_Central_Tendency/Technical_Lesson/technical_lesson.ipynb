{
 "cells": [
  {
   "cell_type": "code",
   "execution_count": 9,
   "metadata": {},
   "outputs": [],
   "source": [
    "import numpy as np\n",
    "from scipy.stats import expon, norm\n",
    "import seaborn as sns\n",
    "import pandas as pd"
   ]
  },
  {
   "cell_type": "markdown",
   "metadata": {},
   "source": [
    "# Technical Lesson "
   ]
  },
  {
   "cell_type": "markdown",
   "metadata": {},
   "source": [
    "In this technical lesson, you will walk through examples of computing the mean, median, and mode in situations that are appropriate. "
   ]
  },
  {
   "cell_type": "markdown",
   "metadata": {},
   "source": [
    "## Situation 1: Characteristic value for flower petal lengths.\n",
    "**Many continuous physical measurements are often clustered in a symmetric fashion about a value of central tendency with extreme values being exceedingly unlikely.**\n",
    "- Here let us compute the characteristic value -- or the value of central tendency -- for the petal lengths of the Virginica subspecies of Iris flowers. A list of measured values have been given to you:"
   ]
  },
  {
   "cell_type": "code",
   "execution_count": 27,
   "metadata": {},
   "outputs": [],
   "source": [
    "virginica_petal_length = [6.0, 5.1, 5.9, 5.6, 5.8, 6.6, 4.5, 6.3, 5.8, 6.1, 5.1, 5.3, 5.5, 5.0, 5.1, 5.3, 5.5, \n",
    "                          6.7, 6.9, 5.0, 5.7, 4.9, 6.7, 4.9, 5.7, 6.0, 4.8, 4.9, 5.6, 5.8, 6.1, 6.4, 5.6, 5.1,\n",
    "                        5.6, 6.1, 5.6, 5.5, 4.8, 5.4, 5.6, 5.1, 5.1, 5.9, 5.7, 5.2, 5.0, 5.2, 5.4, 5.1]"
   ]
  },
  {
   "cell_type": "markdown",
   "metadata": {},
   "source": [
    "1. Choose the appropriate metric for this situation:"
   ]
  },
  {
   "cell_type": "markdown",
   "metadata": {},
   "source": [
    "The mean will be a good measure here."
   ]
  },
  {
   "cell_type": "markdown",
   "metadata": {},
   "source": [
    "2. Compute the mean. "
   ]
  },
  {
   "cell_type": "markdown",
   "metadata": {},
   "source": [
    "We can use base python to compute the sum of values and then divide by the number of elements."
   ]
  },
  {
   "cell_type": "code",
   "execution_count": 53,
   "metadata": {},
   "outputs": [
    {
     "data": {
      "text/plain": [
       "5.5520000000000005"
      ]
     },
     "execution_count": 53,
     "metadata": {},
     "output_type": "execute_result"
    }
   ],
   "source": [
    "virginica_mean = sum(virginica_petal_length)/len(virginica_petal_length)\n",
    "virginica_mean"
   ]
  },
  {
   "cell_type": "markdown",
   "metadata": {},
   "source": [
    "*Using numpy*"
   ]
  },
  {
   "cell_type": "markdown",
   "metadata": {},
   "source": [
    "This can also be performed using a powerful numeric computation packed called Numpy. Numpy can has a datatype called an array which is pretty similar to a list. However, the numpy array has a whole host of statistical and computational methods associated with it. This makes performing common matheematical operations on list type data a lot easier in Numpy with numpy arrays. The process is as follows:\n",
    "1. Make sure numpy is imported.\n",
    "2. Convert Python list to numpy array\n",
    "3. use .mean() method."
   ]
  },
  {
   "cell_type": "code",
   "execution_count": null,
   "metadata": {},
   "outputs": [],
   "source": [
    "# step 1: library hasnt been imported yet\n",
    "import numpy as np"
   ]
  },
  {
   "cell_type": "markdown",
   "metadata": {},
   "source": [
    "Numpy has been imported. `np` is a standard alias for `numpy`. "
   ]
  },
  {
   "cell_type": "code",
   "execution_count": 30,
   "metadata": {},
   "outputs": [
    {
     "name": "stdout",
     "output_type": "stream",
     "text": [
      "<class 'numpy.ndarray'>\n"
     ]
    },
    {
     "data": {
      "text/plain": [
       "array([6. , 5.1, 5.9, 5.6, 5.8, 6.6, 4.5, 6.3, 5.8, 6.1, 5.1, 5.3, 5.5,\n",
       "       5. , 5.1, 5.3, 5.5, 6.7, 6.9, 5. , 5.7, 4.9, 6.7, 4.9, 5.7, 6. ,\n",
       "       4.8, 4.9, 5.6, 5.8, 6.1, 6.4, 5.6, 5.1, 5.6, 6.1, 5.6, 5.5, 4.8,\n",
       "       5.4, 5.6, 5.1, 5.1, 5.9, 5.7, 5.2, 5. , 5.2, 5.4, 5.1])"
      ]
     },
     "execution_count": 30,
     "metadata": {},
     "output_type": "execute_result"
    }
   ],
   "source": [
    "# step 2\n",
    "virginica_petal_length_array = np.array(virginica_petal_length)\n",
    "print(type(virginica_petal_length_array))\n",
    "virginica_petal_length_array"
   ]
  },
  {
   "cell_type": "markdown",
   "metadata": {},
   "source": [
    "We have a numpy array -- which is like a list. And now comes the magic."
   ]
  },
  {
   "cell_type": "code",
   "execution_count": 31,
   "metadata": {},
   "outputs": [
    {
     "data": {
      "text/plain": [
       "5.5520000000000005"
      ]
     },
     "execution_count": 31,
     "metadata": {},
     "output_type": "execute_result"
    }
   ],
   "source": [
    "# step 3\n",
    "virginica_petal_length_array.mean()"
   ]
  },
  {
   "cell_type": "markdown",
   "metadata": {},
   "source": [
    "Bam! We have the same result as before with a single method attached natively to the datatype."
   ]
  },
  {
   "cell_type": "markdown",
   "metadata": {},
   "source": [
    "## Situation 2: Characteristic value for weekly sales of air conditioner units.\n",
    "**Financial and sales data can often have outliers. External events or holidays can lead to a sudden spike or dip in the measured quantity. While these outliers are part of the data, the bulk of data is clustered in a different location.**\n",
    "- Here let us compute the characteristic value -- or the value of central tendency -- for a store's weekly sales of refrigerators for the past year."
   ]
  },
  {
   "cell_type": "code",
   "execution_count": 49,
   "metadata": {},
   "outputs": [],
   "source": [
    "weekly_sales = [5333, 4211, 35204, 4409, 5884, 5100, 4964, 3786, 5494, 5344, 5233, 5713,\n",
    "                4481, 4325, 5105, 4167, 5011, 5088, 5732, 4623, 6217, 5492, 4189, 6435,\n",
    "                5270, 5720, 5437, 6572, 4203, 26110, 4105, 3993, 5546, 4751, 4139, 4431,\n",
    "                4271, 5537, 6177, 4439, 5394, 6525, 4512, 3940, 4078, 5430, 5112, 5255, 5379, \n",
    "                5493, 6659, 4826]"
   ]
  },
  {
   "cell_type": "markdown",
   "metadata": {},
   "source": [
    "A quick perusal of the sales data shows that there are some outliers here. These are weeks where the store happens to have sold a lot of refrigerators -- much more than the general expectation."
   ]
  },
  {
   "cell_type": "markdown",
   "metadata": {},
   "source": [
    "1. Choose the appropriate metric for this situation:"
   ]
  },
  {
   "cell_type": "markdown",
   "metadata": {},
   "source": [
    "Based off of the presence of outliers and the fact that the rest of the the bulk of the values lies in a similar range, the appropriate choice would be the median."
   ]
  },
  {
   "cell_type": "markdown",
   "metadata": {},
   "source": [
    "2. Compute the median."
   ]
  },
  {
   "cell_type": "markdown",
   "metadata": {},
   "source": [
    "As mentioned in the lesson, we need to first sort the numeric data. Then we need to check whether the number of elements are even or odd. \n",
    "- If odd (tested by modulo 2 division on the data length), just get the middle element: this is the number of element floor divided by 2.\n",
    "- If even (the only other case besides odd), then find the two elements in the middle and average them.\n",
    "\n",
    "In base python, you can write a function to do this:"
   ]
  },
  {
   "cell_type": "code",
   "execution_count": 50,
   "metadata": {},
   "outputs": [],
   "source": [
    "def compute_median(data):\n",
    "  \"\"\"\n",
    "  This function calculates the median of a list of numbers.\n",
    "\n",
    "  Args:\n",
    "      data: A list of numbers.\n",
    "\n",
    "  Returns:\n",
    "      The median of the data.\n",
    "  \"\"\"\n",
    "\n",
    "  # Sort the data in ascending order.\n",
    "  sorted_data = sorted(data)\n",
    "\n",
    "  # Calculate the length of the data.\n",
    "  n = len(sorted_data)\n",
    "\n",
    "  # If the length is odd, the median is the middle element.\n",
    "  if n % 2 == 1:\n",
    "    return sorted_data[n // 2]\n",
    "\n",
    "  # If the length is even, the median is the average of the two middle elements.\n",
    "  else:\n",
    "    middle_index1 = n // 2\n",
    "    middle_index2 = middle_index1 - 1\n",
    "    return (sorted_data[middle_index1] + sorted_data[middle_index2]) / 2"
   ]
  },
  {
   "cell_type": "code",
   "execution_count": 51,
   "metadata": {},
   "outputs": [
    {
     "data": {
      "text/plain": [
       "5172.5"
      ]
     },
     "execution_count": 51,
     "metadata": {},
     "output_type": "execute_result"
    }
   ],
   "source": [
    "compute_median(weekly_sales)"
   ]
  },
  {
   "cell_type": "markdown",
   "metadata": {},
   "source": [
    "This median looks plausible as a central measure of the main part of the data (excluding outliers). Compare this with the mean whose value is clearly pushed up considerably by outliers from the median and lies closer to higher end of values for the main data."
   ]
  },
  {
   "cell_type": "code",
   "execution_count": 52,
   "metadata": {},
   "outputs": [
    {
     "data": {
      "text/plain": [
       "6054.692307692308"
      ]
     },
     "execution_count": 52,
     "metadata": {},
     "output_type": "execute_result"
    }
   ],
   "source": [
    "sum(weekly_sales)/len(weekly_sales)"
   ]
  },
  {
   "cell_type": "markdown",
   "metadata": {},
   "source": [
    "*Using Numpy*\n",
    "- convert to list to numpy array\n",
    "- use numpy's median function `np.median`"
   ]
  },
  {
   "cell_type": "code",
   "execution_count": 37,
   "metadata": {},
   "outputs": [
    {
     "data": {
      "text/plain": [
       "5172.5"
      ]
     },
     "execution_count": 37,
     "metadata": {},
     "output_type": "execute_result"
    }
   ],
   "source": [
    "weekly_sales_array = np.array(weekly_sales)\n",
    "# use numpy's median function\n",
    "sales_median = np.median(weekly_sales_array) \n",
    "sales_median"
   ]
  },
  {
   "cell_type": "markdown",
   "metadata": {},
   "source": [
    "## Situation 3: Characteristic value for type of soda picked at a party.\n",
    "**We may want to extract a characteristic value for nominal and/or certain kinds of ordinal categorical data.**\n"
   ]
  },
  {
   "cell_type": "markdown",
   "metadata": {},
   "source": [
    "There is a party with 30 people. They all choose to grab a soda bottle from the cooler. There are only 3 choices -- Coke, Sunkist, and Sprite. The below list displays the choices that were made:"
   ]
  },
  {
   "cell_type": "code",
   "execution_count": 56,
   "metadata": {},
   "outputs": [],
   "source": [
    "soda_data = ['Sprite', 'Sunkist', 'Sunkist', 'Coke', 'Coke', 'Coke', 'Coke', 'Coke', 'Coke', 'Coke', 'Coke',\n",
    "              'Coke', 'Coke', 'Coke', 'Coke', 'Coke', 'Coke', 'Coke', 'Coke', 'Coke', \n",
    "             'Sprite', 'Sprite', 'Sprite', 'Sprite', 'Sprite', 'Sprite', 'Sprite', 'Sprite', 'Sprite', 'Sunkist']"
   ]
  },
  {
   "cell_type": "markdown",
   "metadata": {},
   "source": [
    "1. Choose the appropriate metric for this situation:"
   ]
  },
  {
   "cell_type": "markdown",
   "metadata": {},
   "source": [
    "The appropriate statistic is the mode. The characteristic statistic for categorical data should capture the most commonly occuring category."
   ]
  },
  {
   "cell_type": "markdown",
   "metadata": {},
   "source": [
    "2. Computing the mode:\n",
    "- the strategy here is to create a dictionary with keys being the unique categories\n",
    "- then loop through the list and add a count to the a particular key each time you encounter the corresponding category in the list. the result is a dictionary with category: count key/value pairs.\n",
    "- the last step involves computing the maximum and then finding the key (or category) corresponds to this maximum count value."
   ]
  },
  {
   "cell_type": "code",
   "execution_count": 58,
   "metadata": {},
   "outputs": [],
   "source": [
    "def find_mode(data):\n",
    "  \"\"\"\n",
    "  This function finds the mode(s) of a list.\n",
    "\n",
    "  Args:\n",
    "    data: A list of hashable elements.\n",
    "\n",
    "  Returns:\n",
    "    A list of modes. If there is no mode, returns an empty list.\n",
    "  \"\"\"\n",
    "  # Initialize an empty dictionary to store element counts.\n",
    "  counts = {}\n",
    "\n",
    "  # Iterate through the list and count the occurrences of each element.\n",
    "  for element in data:\n",
    "    if element in counts:\n",
    "      counts[element] += 1\n",
    "    else:\n",
    "      counts[element] = 1\n",
    "\n",
    "  # Find the maximum count.\n",
    "  max_count = max(counts.values(), default=0)\n",
    "\n",
    "  # Find the elements with the maximum count.\n",
    "  modes = [element for element, count in counts.items() if count == max_count]\n",
    "\n",
    "  return modes"
   ]
  },
  {
   "cell_type": "markdown",
   "metadata": {},
   "source": [
    "Use this function to return the mode:"
   ]
  },
  {
   "cell_type": "code",
   "execution_count": 59,
   "metadata": {},
   "outputs": [
    {
     "data": {
      "text/plain": [
       "['Coke']"
      ]
     },
     "execution_count": 59,
     "metadata": {},
     "output_type": "execute_result"
    }
   ],
   "source": [
    "find_mode(soda_data)"
   ]
  },
  {
   "cell_type": "markdown",
   "metadata": {},
   "source": [
    "*The Counter object in the `collections` module*"
   ]
  },
  {
   "cell_type": "markdown",
   "metadata": {},
   "source": [
    "Writing the above function is not efficient nor is it generally required. Base python has the very useful `collections` module that has the `Counter` object that is perfect for this task.\n",
    "\n",
    "In order to use `Counter` to compute the mode, you will need to:\n",
    "1. Import Counter from collections\n",
    "2. Create a Counter object\n",
    "3. use the .most_common() method\n"
   ]
  },
  {
   "cell_type": "markdown",
   "metadata": {},
   "source": [
    "Let's see this in action:"
   ]
  },
  {
   "cell_type": "code",
   "execution_count": 60,
   "metadata": {},
   "outputs": [],
   "source": [
    "# 1. Import Counter\n",
    "from collections import Counter"
   ]
  },
  {
   "cell_type": "code",
   "execution_count": 62,
   "metadata": {},
   "outputs": [
    {
     "data": {
      "text/plain": [
       "Counter({'Coke': 17, 'Sprite': 10, 'Sunkist': 3})"
      ]
     },
     "execution_count": 62,
     "metadata": {},
     "output_type": "execute_result"
    }
   ],
   "source": [
    "# 2. Input the data into Counter's arguments\n",
    "cnt_obj = Counter(soda_data)\n",
    "cnt_obj"
   ]
  },
  {
   "cell_type": "markdown",
   "metadata": {},
   "source": [
    "The Counter is a Python dictionary with some additional functionality. Now  let’s use this added functionality to quickly extract the mode.\n"
   ]
  },
  {
   "cell_type": "code",
   "execution_count": 68,
   "metadata": {},
   "outputs": [
    {
     "data": {
      "text/plain": [
       "[('Coke', 17)]"
      ]
     },
     "execution_count": 68,
     "metadata": {},
     "output_type": "execute_result"
    }
   ],
   "source": [
    "# 3. Input the data into Counter's arguments\n",
    "mode_val_pair = cnt_obj.most_common(1)\n",
    "mode_val_pair"
   ]
  },
  {
   "cell_type": "code",
   "execution_count": 69,
   "metadata": {},
   "outputs": [
    {
     "data": {
      "text/plain": [
       "'Coke'"
      ]
     },
     "execution_count": 69,
     "metadata": {},
     "output_type": "execute_result"
    }
   ],
   "source": [
    "# Extracting the mode from this list of tuples:\n",
    "mode_val_pair[0][0]"
   ]
  }
 ],
 "metadata": {
  "kernelspec": {
   "display_name": "learn-env",
   "language": "python",
   "name": "python3"
  },
  "language_info": {
   "codemirror_mode": {
    "name": "ipython",
    "version": 3
   },
   "file_extension": ".py",
   "mimetype": "text/x-python",
   "name": "python",
   "nbconvert_exporter": "python",
   "pygments_lexer": "ipython3",
   "version": "3.12.3"
  }
 },
 "nbformat": 4,
 "nbformat_minor": 2
}
