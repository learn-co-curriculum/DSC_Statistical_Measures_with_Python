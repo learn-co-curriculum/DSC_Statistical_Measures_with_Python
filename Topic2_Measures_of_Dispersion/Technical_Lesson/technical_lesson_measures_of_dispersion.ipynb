{
 "cells": [
  {
   "cell_type": "markdown",
   "metadata": {},
   "source": [
    "# Technical Walkthrough for Measures of Dispersion"
   ]
  },
  {
   "cell_type": "markdown",
   "metadata": {},
   "source": [
    "Situation 1: Characteristic range for flower petal lengths.\n"
   ]
  },
  {
   "cell_type": "markdown",
   "metadata": {},
   "source": [
    "Let's revisit our list of petal lengths for members of the Iris Virginica subspecies. In a previous lesson, we computed measures of central tendency for this data (i.e. the mean and median). This data was symmetrically distributed without outliers and a clear value of central tendency. In this case, the all the measures of dispersion (standard deviation, MAD and IQR) should be on the same scale. However, as they measure different things it is unreasonable to expect they are all the same. Let's go ahead and calculate all of these. First, we start the variance -- which we will use to compute the standard deviation:"
   ]
  },
  {
   "cell_type": "code",
   "execution_count": 5,
   "metadata": {},
   "outputs": [],
   "source": [
    "virginica_petal_length = [6.0, 5.1, 5.9, 5.6, 5.8, 6.6, 4.5, 6.3, 5.8, 6.1, 5.1, 5.3, 5.5, 5.0, 5.1, 5.3, 5.5, 6.7, 6.9, 5.0, 5.7, 4.9, 6.7, 4.9, 5.7, 6.0, 4.8, 4.9, 5.6, 5.8, 6.1, 6.4, 5.6, 5.1,\n",
    "5.6, 6.1, 5.6, 5.5, 4.8, 5.4, 5.6, 5.1, 5.1, 5.9, 5.7, 5.2, 5.0, 5.2, 5.4, 5.1]"
   ]
  },
  {
   "cell_type": "markdown",
   "metadata": {},
   "source": [
    "We now write a function that takes a list of numbers as input and returns the variance of the sample as output. Using the corrected formula:\n",
    "\n",
    "$$ s_{corr}^2 = \\frac{\\sum_i^N (x_i - \\bar{x})^2}{N-1}$$"
   ]
  },
  {
   "cell_type": "code",
   "execution_count": 6,
   "metadata": {},
   "outputs": [],
   "source": [
    "def get_variance(sample):\n",
    "\n",
    "    # First, calculate the sample mean \n",
    "    sample_mean = sum(sample)/len(sample)\n",
    "    \n",
    "    sum_of_squares = 0\n",
    "    for length in sample:\n",
    "        # Now, calculate the sum of squares by subtracting the sample mean\n",
    "        # from each length, squaring the result, and adding it to the total\n",
    "        sum_of_squares += (length - sample_mean)**2\n",
    "        \n",
    "    # Divide the sum of squares by the number of items in the sample -1 to calculate variance \n",
    "    variance = sum_of_squares/(len(sample)- 1)\n",
    "    \n",
    "    return variance\n"
   ]
  },
  {
   "cell_type": "markdown",
   "metadata": {},
   "source": [
    "Applying this function to our list of petal lengths:"
   ]
  },
  {
   "cell_type": "code",
   "execution_count": 7,
   "metadata": {},
   "outputs": [
    {
     "data": {
      "text/plain": [
       "0.30458775510204084"
      ]
     },
     "execution_count": 7,
     "metadata": {},
     "output_type": "execute_result"
    }
   ],
   "source": [
    "get_variance(virginica_petal_length)"
   ]
  },
  {
   "cell_type": "markdown",
   "metadata": {},
   "source": [
    "#### Calculating variance with Numpy\n",
    "The following can also be accomplished readily by using Numpy. The steps are:\n",
    "- make sure you have numpy imported\n",
    "- convert the list into an array \n",
    "- call the .var(ddof = 1) method on your array. This calculates the corrected sample  variance. The `ddof = 1` argument is what provides the $N-1$ correction to the variance."
   ]
  },
  {
   "cell_type": "code",
   "execution_count": 8,
   "metadata": {},
   "outputs": [
    {
     "data": {
      "text/plain": [
       "0.30458775510204084"
      ]
     },
     "execution_count": 8,
     "metadata": {},
     "output_type": "execute_result"
    }
   ],
   "source": [
    "import numpy as np\n",
    "\n",
    "virginica_array = np.array(virginica_petal_length)\n",
    "virginica_array.var(ddof = 1)"
   ]
  },
  {
   "cell_type": "markdown",
   "metadata": {},
   "source": [
    "Now let's calculate the sample standard deviation.  The corrected formula base off of the variance is:\n",
    "\n",
    "$$ s_{corr}^2 = \\sqrt{\\frac{\\sum_i^N (x_i - \\bar{x})^2}{N-1}}$$\n",
    "\n",
    "First, let's write a function that builds of our `get_variance` function:"
   ]
  },
  {
   "cell_type": "code",
   "execution_count": 9,
   "metadata": {},
   "outputs": [],
   "source": [
    "# write function for the standard deviation\n",
    "\n",
    "def get_stddev(sample):\n",
    "\n",
    "    stdev = (get_variance(sample))**0.5 # this takes the square root of the corrected sample variance\n",
    "\n",
    "    return stdev"
   ]
  },
  {
   "cell_type": "markdown",
   "metadata": {},
   "source": [
    "Applying this function on our petal lengths yields our corrected sample standard deviation:"
   ]
  },
  {
   "cell_type": "code",
   "execution_count": 10,
   "metadata": {},
   "outputs": [
    {
     "data": {
      "text/plain": [
       "0.5518946956639834"
      ]
     },
     "execution_count": 10,
     "metadata": {},
     "output_type": "execute_result"
    }
   ],
   "source": [
    "get_stddev(virginica_petal_length)"
   ]
  },
  {
   "cell_type": "markdown",
   "metadata": {},
   "source": [
    "Using Numpy is also fairly straightforward:\n",
    "- just call the .std(ddof = 1) method on our petal length array"
   ]
  },
  {
   "cell_type": "code",
   "execution_count": 11,
   "metadata": {},
   "outputs": [
    {
     "data": {
      "text/plain": [
       "0.5518946956639834"
      ]
     },
     "execution_count": 11,
     "metadata": {},
     "output_type": "execute_result"
    }
   ],
   "source": [
    "virginica_array.std(ddof = 1)"
   ]
  },
  {
   "cell_type": "markdown",
   "metadata": {},
   "source": [
    "Now let us calculate the MAD:\n",
    "\n",
    "$$ MAD = \\frac{\\sum_i^N |x_i - \\bar{x}|}{N}$$\n",
    "\n",
    "We can write a function that takes on a form similar to our `get_variance` function. You will need to use the Python abs() function for this:"
   ]
  },
  {
   "cell_type": "code",
   "execution_count": 44,
   "metadata": {},
   "outputs": [],
   "source": [
    "\n",
    "def get_mad(sample):\n",
    "\n",
    "    # First, calculate the sample mean \n",
    "    sample_mean = sum(sample)/len(sample)\n",
    "    \n",
    "    sum_of_devs = 0\n",
    "    for length in sample:\n",
    "        # find deviation by subtracting the sample mean\n",
    "        # ftake the absolute value of the deviation and adding it to the total\n",
    "        sum_of_devs += abs(length - sample_mean) \n",
    "        \n",
    "    # Divide the sum of deviations by the number of items in the sample to calculate MAD  \n",
    "    mad = sum_of_devs/(len(sample))\n",
    "    \n",
    "    return mad\n"
   ]
  },
  {
   "cell_type": "markdown",
   "metadata": {},
   "source": [
    "Extracting the MAD for our petal lengths:"
   ]
  },
  {
   "cell_type": "code",
   "execution_count": 45,
   "metadata": {},
   "outputs": [
    {
     "data": {
      "text/plain": [
       "0.43999999999999995"
      ]
     },
     "execution_count": 45,
     "metadata": {},
     "output_type": "execute_result"
    }
   ],
   "source": [
    "get_mad(virginica_petal_length)"
   ]
  },
  {
   "cell_type": "markdown",
   "metadata": {},
   "source": [
    "This is a comparable range to the standard deviation.  "
   ]
  },
  {
   "cell_type": "markdown",
   "metadata": {},
   "source": [
    "Now let's calculate the IQR. In principle, we could find a function that sorts the data, splits it into quarters and then extracts the range of the middle half. We are not going to take this route here. Instead we will show you two methods to extract the IQR using `numpy` and `scipy`."
   ]
  },
  {
   "cell_type": "markdown",
   "metadata": {},
   "source": [
    "Method 1:\n",
    "- This relies on calculating the 25th and 75th percentiles (Q1 and Q3 respectively) using `numpy` and subtracting them yielding the IQR:\n",
    "$$ IQR = Q3 - Q1$$\n",
    "- The `numpy` function np.percentile() is used to calculate percentiles as follows:"
   ]
  },
  {
   "cell_type": "code",
   "execution_count": 14,
   "metadata": {},
   "outputs": [
    {
     "data": {
      "text/plain": [
       "5.1"
      ]
     },
     "execution_count": 14,
     "metadata": {},
     "output_type": "execute_result"
    }
   ],
   "source": [
    "# calculating the 25th percentile (Q1)\n",
    "Q1 = np.percentile(virginica_petal_length , 25)\n",
    "Q1"
   ]
  },
  {
   "cell_type": "markdown",
   "metadata": {},
   "source": [
    "We can do the same for the 75th percentile (Q3):"
   ]
  },
  {
   "cell_type": "code",
   "execution_count": 15,
   "metadata": {},
   "outputs": [
    {
     "data": {
      "text/plain": [
       "5.875"
      ]
     },
     "execution_count": 15,
     "metadata": {},
     "output_type": "execute_result"
    }
   ],
   "source": [
    "Q3 = np.percentile(virginica_petal_length , 75)\n",
    "Q3"
   ]
  },
  {
   "cell_type": "markdown",
   "metadata": {},
   "source": [
    "The IQR then is:"
   ]
  },
  {
   "cell_type": "code",
   "execution_count": 16,
   "metadata": {},
   "outputs": [
    {
     "data": {
      "text/plain": [
       "0.7750000000000004"
      ]
     },
     "execution_count": 16,
     "metadata": {},
     "output_type": "execute_result"
    }
   ],
   "source": [
    "IQR_petals = Q3 - Q1\n",
    "IQR_petals"
   ]
  },
  {
   "cell_type": "markdown",
   "metadata": {},
   "source": [
    "Method 2:\n",
    "This involves import `scipy`, a powerful scientific computing package built off of `numpy` and using the IQR method from scipy's stats submodule:"
   ]
  },
  {
   "cell_type": "code",
   "execution_count": 17,
   "metadata": {},
   "outputs": [
    {
     "data": {
      "text/plain": [
       "0.7750000000000004"
      ]
     },
     "execution_count": 17,
     "metadata": {},
     "output_type": "execute_result"
    }
   ],
   "source": [
    "from scipy.stats import iqr\n",
    "iqr(virginica_petal_length)"
   ]
  },
  {
   "cell_type": "markdown",
   "metadata": {},
   "source": [
    "Remember that the IQR is the *full characteristic range* not just a measure of deviation from the value of central tendency. The IQR then seems to be in rough concordance with range estimates from the MAD and standard deviation."
   ]
  },
  {
   "cell_type": "markdown",
   "metadata": {},
   "source": [
    "Situation 2: Characteristic range for weekly sales of air conditioner units.\n",
    "\n",
    "Recall that this data contained large outliers. There were two weeks, in particular, where the store made considerably more on air conditioner sales than other weeks. We will now see how presence of outliers affect the different measures of dispersion:"
   ]
  },
  {
   "cell_type": "code",
   "execution_count": 18,
   "metadata": {},
   "outputs": [],
   "source": [
    "weekly_sales = [5333, 4211, 35204, 4409, 5884, 5100, 4964, 3786, 5494, 5344, 5233, 5713,\n",
    "                4481, 4325, 5105, 4167, 5011, 5088, 5732, 4623, 6217, 5492, 4189, 6435,\n",
    "                5270, 5720, 5437, 6572, 4203, 26110, 4105, 3993, 5546, 4751, 4139, 4431,\n",
    "                4271, 5537, 6177, 4439, 5394, 6525, 4512, 3940, 4078, 5430, 5112, 5255, 5379,\n",
    "                5493, 6659, 4826]\n"
   ]
  },
  {
   "cell_type": "markdown",
   "metadata": {},
   "source": [
    "Computing the standard deviation:"
   ]
  },
  {
   "cell_type": "code",
   "execution_count": 20,
   "metadata": {},
   "outputs": [
    {
     "data": {
      "text/plain": [
       "5104.157200459102"
      ]
     },
     "execution_count": 20,
     "metadata": {},
     "output_type": "execute_result"
    }
   ],
   "source": [
    "np.array(weekly_sales).std(ddof = 1)"
   ]
  },
  {
   "cell_type": "markdown",
   "metadata": {},
   "source": [
    "Computing MAD:"
   ]
  },
  {
   "cell_type": "code",
   "execution_count": 21,
   "metadata": {},
   "outputs": [
    {
     "data": {
      "text/plain": [
       "1979.286982248521"
      ]
     },
     "execution_count": 21,
     "metadata": {},
     "output_type": "execute_result"
    }
   ],
   "source": [
    "get_mad(weekly_sales)"
   ]
  },
  {
   "cell_type": "markdown",
   "metadata": {},
   "source": [
    "Computing the IQR:"
   ]
  },
  {
   "cell_type": "code",
   "execution_count": 22,
   "metadata": {},
   "outputs": [
    {
     "data": {
      "text/plain": [
       "1113.75"
      ]
     },
     "execution_count": 22,
     "metadata": {},
     "output_type": "execute_result"
    }
   ],
   "source": [
    "iqr(weekly_sales)"
   ]
  },
  {
   "cell_type": "markdown",
   "metadata": {},
   "source": [
    "There are pretty large differences here – particularly between the standard deviation and the rest of the measures of dispersion. It's useful to look at a histogram of weekly sales.\n",
    "\n",
    "![image](weekly_sales_outlier.png)"
   ]
  },
  {
   "cell_type": "markdown",
   "metadata": {},
   "source": [
    "The standard deviation is influenced heavily by the outliers. An inspection of the main cluster of values shows that an estimation of the characteristic range at ~ 5100 is much too high. The MAD is more reasonable but still is a bit high as an estimate of characteristic deviation from the value of central tendency. This is due to the fact that MAD is still influenced by the outliers at high values. The IQR estimates the middle range of the bulk of the data. The IQR seems reasonable upon inspecting the bulk of the distribution.\n",
    "\n",
    "Now let us remove outliers and see what happens to the three measures of dispersion:\n"
   ]
  },
  {
   "cell_type": "code",
   "execution_count": 33,
   "metadata": {},
   "outputs": [],
   "source": [
    "weekly_sales_no_outliers = [elem for elem in weekly_sales if elem < 20000]"
   ]
  },
  {
   "cell_type": "markdown",
   "metadata": {},
   "source": [
    "Calculating the standard deviation with outliers removed:"
   ]
  },
  {
   "cell_type": "code",
   "execution_count": 37,
   "metadata": {},
   "outputs": [
    {
     "data": {
      "text/plain": [
       "760.6934001157049"
      ]
     },
     "execution_count": 37,
     "metadata": {},
     "output_type": "execute_result"
    }
   ],
   "source": [
    "np.array(weekly_sales_no_outliers).std(ddof = 1)"
   ]
  },
  {
   "cell_type": "markdown",
   "metadata": {},
   "source": [
    "This is a substantial reduction in the standard deviation! It is certainly more characteristic of the dispersion about the mean than the previous value when outliers were included."
   ]
  },
  {
   "cell_type": "markdown",
   "metadata": {},
   "source": [
    "Calculating the MAD with outliers removed:"
   ]
  },
  {
   "cell_type": "code",
   "execution_count": 35,
   "metadata": {},
   "outputs": [
    {
     "data": {
      "text/plain": [
       "627.9680000000001"
      ]
     },
     "execution_count": 35,
     "metadata": {},
     "output_type": "execute_result"
    }
   ],
   "source": [
    "get_mad(weekly_sales_no_outliers)"
   ]
  },
  {
   "cell_type": "markdown",
   "metadata": {},
   "source": [
    "The MAD (Mean Absolute Deviation) also sees a substantial drop from its previous value when outliers were included. This drop is not as drastic as in the case of the standard deviation. Note that now the MAD and standard deviation are fairly similar in value."
   ]
  },
  {
   "cell_type": "markdown",
   "metadata": {},
   "source": [
    "Calculating the IQR with outliers removed:"
   ]
  },
  {
   "cell_type": "code",
   "execution_count": 36,
   "metadata": {},
   "outputs": [
    {
     "data": {
      "text/plain": [
       "1079.25"
      ]
     },
     "execution_count": 36,
     "metadata": {},
     "output_type": "execute_result"
    }
   ],
   "source": [
    "iqr(weekly_sales_no_outliers)"
   ]
  },
  {
   "cell_type": "markdown",
   "metadata": {},
   "source": [
    "The IQR remains pretty stable and doesn't change much at all. This jives with the notion that the IQR is largely insensitive to distribution outliers. "
   ]
  }
 ],
 "metadata": {
  "kernelspec": {
   "display_name": "learn-env",
   "language": "python",
   "name": "python3"
  },
  "language_info": {
   "codemirror_mode": {
    "name": "ipython",
    "version": 3
   },
   "file_extension": ".py",
   "mimetype": "text/x-python",
   "name": "python",
   "nbconvert_exporter": "python",
   "pygments_lexer": "ipython3",
   "version": "3.12.3"
  }
 },
 "nbformat": 4,
 "nbformat_minor": 2
}
