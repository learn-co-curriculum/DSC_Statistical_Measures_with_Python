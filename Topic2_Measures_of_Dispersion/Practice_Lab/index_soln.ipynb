{
 "cells": [
  {
   "cell_type": "markdown",
   "metadata": {},
   "source": [
    "1. Load in the relevant dataset using csv DictReader. The path has been provided.\n"
   ]
  },
  {
   "cell_type": "code",
   "execution_count": 2,
   "metadata": {},
   "outputs": [
    {
     "data": {
      "text/plain": [
       "{'HHX': '16',\n",
       " 'FMX': '1',\n",
       " 'FPX': '2',\n",
       " 'SEX': '1',\n",
       " 'BMI': '33.36',\n",
       " 'SLEEP': '8',\n",
       " 'educ': '16',\n",
       " 'height': '74',\n",
       " 'weight': '260'}"
      ]
     },
     "execution_count": 2,
     "metadata": {},
     "output_type": "execute_result"
    }
   ],
   "source": [
    "import csv\n",
    "path = './nhis.csv'\n",
    "\n",
    "\n",
    "# Your code here\n",
    "with open(path, 'r') as f:\n",
    "    data = list(csv.DictReader(f))\n",
    "data[0]"
   ]
  },
  {
   "cell_type": "markdown",
   "metadata": {},
   "source": [
    "2. Extract values for the the variable height and save to a Python list called `height_list`. Convert data type appropriately."
   ]
  },
  {
   "cell_type": "code",
   "execution_count": 3,
   "metadata": {},
   "outputs": [],
   "source": [
    "# Your code here\n",
    "# Your code here. \n",
    "height_list = [int(row['height']) for row in data]"
   ]
  },
  {
   "cell_type": "markdown",
   "metadata": {},
   "source": [
    "We have plotted a histogram of the data. There are clearly outliers in the data. \n"
   ]
  },
  {
   "cell_type": "markdown",
   "metadata": {},
   "source": [
    "![image](height_distribut.png)"
   ]
  },
  {
   "cell_type": "markdown",
   "metadata": {},
   "source": [
    "3. Calculate the sample mean of the heights."
   ]
  },
  {
   "cell_type": "code",
   "execution_count": 5,
   "metadata": {},
   "outputs": [
    {
     "data": {
      "text/plain": [
       "69.57826541274817"
      ]
     },
     "execution_count": 5,
     "metadata": {},
     "output_type": "execute_result"
    }
   ],
   "source": [
    "# Your code here\n",
    "import numpy as np # import numpy\n",
    "\n",
    "height_array = np.array(height_list)\n",
    "height_mean = height_array.mean()\n",
    "height_mean"
   ]
  },
  {
   "cell_type": "markdown",
   "metadata": {},
   "source": [
    "4. Calculate the sample variance of the heights. Make sure that you are using the corrected variance. "
   ]
  },
  {
   "cell_type": "code",
   "execution_count": 6,
   "metadata": {},
   "outputs": [
    {
     "data": {
      "text/plain": [
       "87.74476162268516"
      ]
     },
     "execution_count": 6,
     "metadata": {},
     "output_type": "execute_result"
    }
   ],
   "source": [
    "# Your code here\n",
    "height_variance = height_array.var(ddof=1)\n",
    "height_variance"
   ]
  },
  {
   "cell_type": "markdown",
   "metadata": {},
   "source": [
    "5. Calculate the sample standard deviation of heights. Make sure that you are using the corrected standard deviation.\n"
   ]
  },
  {
   "cell_type": "code",
   "execution_count": 7,
   "metadata": {},
   "outputs": [
    {
     "data": {
      "text/plain": [
       "9.367217389528502"
      ]
     },
     "execution_count": 7,
     "metadata": {},
     "output_type": "execute_result"
    }
   ],
   "source": [
    "# Your code here\n",
    "height_std = height_array.std(ddof=1)\n",
    "height_std"
   ]
  },
  {
   "cell_type": "markdown",
   "metadata": {},
   "source": [
    "6. Calculate the IQR by calculating and subtracting relevant percentiles."
   ]
  },
  {
   "cell_type": "code",
   "execution_count": 15,
   "metadata": {},
   "outputs": [
    {
     "name": "stdout",
     "output_type": "stream",
     "text": [
      "64.0 71.0\n",
      "7.0\n"
     ]
    }
   ],
   "source": [
    "# Your code here\n",
    "Q1 = np.percentile(height_array, 25) \n",
    "Q3 = np.percentile(height_array, 75) \n",
    "print(Q1, Q3)\n",
    "IQR_orig = Q3 - Q1\n",
    "print(IQR_orig)"
   ]
  },
  {
   "cell_type": "markdown",
   "metadata": {},
   "source": [
    "6. Calculate the IQR using scipy."
   ]
  },
  {
   "cell_type": "code",
   "execution_count": 10,
   "metadata": {},
   "outputs": [
    {
     "data": {
      "text/plain": [
       "7.0"
      ]
     },
     "execution_count": 10,
     "metadata": {},
     "output_type": "execute_result"
    }
   ],
   "source": [
    "# Your code here\n",
    "from scipy.stats import iqr\n",
    "\n",
    "iqr(height_array)"
   ]
  },
  {
   "cell_type": "markdown",
   "metadata": {},
   "source": [
    "8. Clean all outliers from the height data. You can use the histogram of heights to help guide in your data filtering."
   ]
  },
  {
   "cell_type": "code",
   "execution_count": 12,
   "metadata": {},
   "outputs": [],
   "source": [
    "# Your code here\n",
    "\n",
    "#filtering heights above 80 out of the dataset should do the trick. \n",
    "# we convert to numpy array for convenience\n",
    "heights_cleaned = np.array([height for height in height_list if height < 80 ])"
   ]
  },
  {
   "cell_type": "markdown",
   "metadata": {},
   "source": [
    "9. Compute the sample standard deviation on the cleaned data:"
   ]
  },
  {
   "cell_type": "code",
   "execution_count": 13,
   "metadata": {},
   "outputs": [
    {
     "data": {
      "text/plain": [
       "3.910385485998152"
      ]
     },
     "execution_count": 13,
     "metadata": {},
     "output_type": "execute_result"
    }
   ],
   "source": [
    "# Your code here\n",
    "cleaned_std = heights_cleaned.std(ddof=1)\n",
    "cleaned_std"
   ]
  },
  {
   "cell_type": "markdown",
   "metadata": {},
   "source": [
    "10. Compute the new lower and upper quartile and IQR on the cleaned data:"
   ]
  },
  {
   "cell_type": "code",
   "execution_count": 16,
   "metadata": {},
   "outputs": [
    {
     "name": "stdout",
     "output_type": "stream",
     "text": [
      "64.0 70.0\n"
     ]
    },
    {
     "data": {
      "text/plain": [
       "6.0"
      ]
     },
     "execution_count": 16,
     "metadata": {},
     "output_type": "execute_result"
    }
   ],
   "source": [
    "# Your code here\n",
    "Q1_cleaned = np.percentile(heights_cleaned, 25)\n",
    "Q3_cleaned = np.percentile(heights_cleaned, 75)\n",
    "\n",
    "print(Q1_cleaned, Q3_cleaned)\n",
    "iqr_cleaned = iqr(heights_cleaned)\n",
    "iqr_cleaned"
   ]
  },
  {
   "cell_type": "markdown",
   "metadata": {},
   "source": [
    "11. Comment on how the standard deviation and IQR has changed between the the original and cleaned heights."
   ]
  },
  {
   "cell_type": "markdown",
   "metadata": {},
   "source": [
    "The standard deviation has reduced substantially -- to a value that now reflects a deviation from the mean about which the bulk of the main height distribution lies. The IQR has reduced somewhat but is basically stable. The IQR now is commensurate with the characteristic range $ [ \\bar{x} - s, \\bar{x} + s]$ given by the sample standard deviation and mean."
   ]
  }
 ],
 "metadata": {
  "kernelspec": {
   "display_name": "learn-env",
   "language": "python",
   "name": "python3"
  },
  "language_info": {
   "codemirror_mode": {
    "name": "ipython",
    "version": 3
   },
   "file_extension": ".py",
   "mimetype": "text/x-python",
   "name": "python",
   "nbconvert_exporter": "python",
   "pygments_lexer": "ipython3",
   "version": "3.12.3"
  }
 },
 "nbformat": 4,
 "nbformat_minor": 2
}
