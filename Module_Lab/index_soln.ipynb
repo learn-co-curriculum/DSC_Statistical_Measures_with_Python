{
 "cells": [
  {
   "cell_type": "markdown",
   "metadata": {},
   "source": [
    "# Module “Putting it All Together” Lab\n"
   ]
  },
  {
   "cell_type": "markdown",
   "metadata": {},
   "source": [
    "You are a junior analyst for a company that sells widgets for use across many different industries/markets. Your boss has asked you to give her a summary of widget sales across these markets for the past year. She wants to know:\n",
    "What has been the typical sales volume across markets?\n",
    "How variable have sales been across the different markets this past year?\n",
    "How much has the company been characteristically spending in different advertising media (TV, radio, and newspaper) across the different markets for the past year?\n",
    "\n",
    "\n",
    "You have been given a dataset (in CSV format) that contains sales and advertising budget information that you will require for your analysis. There are four columns:\n",
    "sales: the number of widgets sold (in thousands)\n",
    "tv: the amount of money (in thousands of dollars) spent on TV ads\n",
    "radio: the amount of money (in thousands of dollars) spent on radio ads\n",
    "newspaper: the amount of money (in thousands of dollars) spent on newspaper "
   ]
  },
  {
   "cell_type": "markdown",
   "metadata": {},
   "source": [
    "### Sales Data Summary\n"
   ]
  },
  {
   "cell_type": "code",
   "execution_count": 1,
   "metadata": {},
   "outputs": [],
   "source": [
    "# Run this cell without changes\n",
    "\n",
    "import csv"
   ]
  },
  {
   "cell_type": "markdown",
   "metadata": {},
   "source": [
    "1. Use the csv DictReader to load the dataset into a list of dictionaries and save it to a variable data."
   ]
  },
  {
   "cell_type": "code",
   "execution_count": 2,
   "metadata": {},
   "outputs": [],
   "source": [
    "\n",
    "# Replace None with appropriate code\n",
    "with open('data/Advertising.csv') as f:\n",
    "    data = list(csv.DictReader(f))"
   ]
  },
  {
   "cell_type": "markdown",
   "metadata": {},
   "source": [
    "2. Extract sales numbers for each market in the dataset as a list and save it to a variable “sales”. Then save TV, Radio, and Newspaper advertising expenditures to lists called “tv”, “radio” and “newspaper” respectively."
   ]
  },
  {
   "cell_type": "code",
   "execution_count": 6,
   "metadata": {},
   "outputs": [],
   "source": [
    "# Replace None with appropriate code\n",
    "\n",
    "# thee\n",
    "sales = [float(row['Sales']) for row in data]\n",
    "tv = [float(row['TV']) for row in data]\n",
    "radio = [float(row['Radio']) for row in data]\n",
    "newspaper = [float(row['Newspaper']) for row in data]"
   ]
  },
  {
   "cell_type": "markdown",
   "metadata": {},
   "source": [
    "Provide a summary of the data by:\n",
    "- Getting the number of markets your company has been engaged in this past year\n",
    "- Use in-built Python functions to get the minimum and maximum sales across all markets operated in.\n"
   ]
  },
  {
   "cell_type": "code",
   "execution_count": 8,
   "metadata": {},
   "outputs": [
    {
     "name": "stdout",
     "output_type": "stream",
     "text": [
      "\n",
      "This dataset contains records for 200 markets\n",
      "\n",
      "\n",
      "The fewest sales for any market was 1.6 thousand widgets\n",
      "\n",
      "\n",
      "The most sales for any market was 27.0 thousand widgets\n",
      "\n"
     ]
    }
   ],
   "source": [
    "# Replace None with appropriate code\n",
    "num_markets = len(data)\n",
    "min_sales = min(sales)\n",
    "max_sales = max(sales)\n",
    "\n",
    "\n",
    "print(f\"\"\"\n",
    "This dataset contains records for {num_markets} markets\n",
    "\n",
    "\n",
    "The fewest sales for any market was {min_sales} thousand widgets\n",
    "\n",
    "\n",
    "The most sales for any market was {max_sales} thousand widgets\n",
    "\"\"\")"
   ]
  },
  {
   "cell_type": "markdown",
   "metadata": {},
   "source": [
    "Run this code to create a histogram of all sales data:"
   ]
  },
  {
   "cell_type": "code",
   "execution_count": 9,
   "metadata": {},
   "outputs": [
    {
     "data": {
      "image/png": "[encoded data removed]",
      "text/plain": [
       "<Figure size 1000x500 with 1 Axes>"
      ]
     },
     "metadata": {},
     "output_type": "display_data"
    }
   ],
   "source": [
    "# Run this cell without changes\n",
    "import matplotlib.pyplot as plt\n",
    "%matplotlib inline\n",
    "\n",
    "fig, ax = plt.subplots(figsize=(10, 5))\n",
    "\n",
    "ax.hist(sales, bins=15)\n",
    "\n",
    "ax.set_xlabel(\"Sales (thousands of widgets)\")\n",
    "ax.set_ylabel(\"Count\")\n",
    "\n",
    "ax.set_title(\"Distribution of Sales across Markets\");"
   ]
  },
  {
   "cell_type": "markdown",
   "metadata": {},
   "source": [
    "### Typical Sales Volume\n"
   ]
  },
  {
   "cell_type": "markdown",
   "metadata": {},
   "source": [
    "Now let us address the first business question: What has been the typical sales volume across markets?\n",
    "\n",
    "4. Based on the histogram, choose an appropriate measure of central tendency for widget sales. Use whatever method you wish to calculate your chosen metric – making any required imports in the cell.\n"
   ]
  },
  {
   "cell_type": "code",
   "execution_count": 13,
   "metadata": {},
   "outputs": [
    {
     "name": "stdout",
     "output_type": "stream",
     "text": [
      "\n",
      "Typical sales volume is 12.9 thousand widgets\n",
      "\n"
     ]
    }
   ],
   "source": [
    "# Replace None with appropriate code\n",
    "# make any desired imports here\n",
    "import numpy as np\n",
    "\n",
    "# Assign measure_central_tendency to the mean, median, or mode of the sales data\n",
    "\n",
    "measure_central_tendency = np.median(sales) # median is a good measure as  this is continuous data and there is a distribution skew\n",
    "\n",
    "print(f\"\"\"\n",
    "Typical sales volume is {measure_central_tendency} thousand widgets\n",
    "\"\"\")"
   ]
  },
  {
   "cell_type": "markdown",
   "metadata": {},
   "source": [
    "### Dispersion of Sales Volume\n"
   ]
  },
  {
   "cell_type": "markdown",
   "metadata": {},
   "source": [
    "Now that we have a number to represent the typical sales volume, let's answer: How variable have sales been across markets?\n",
    "\n",
    "5. Based on the histogram, choose an appropriate measure of dispersion for widget sales. Use whatever method you wish to calculate your chosen metric – making any required imports in the cell."
   ]
  },
  {
   "cell_type": "code",
   "execution_count": 15,
   "metadata": {},
   "outputs": [
    {
     "name": "stdout",
     "output_type": "stream",
     "text": [
      "7.024999999999999\n"
     ]
    }
   ],
   "source": [
    "# Replace None or <None> with appropriate code\n",
    "# make any imports here\n",
    "from scipy.stats import iqr\n",
    "# Assign measure_dispersion\n",
    "measure_dispersion = iqr(sales) # iqr is unaffected by skew\n",
    "\n",
    "print(measure_dispersion)"
   ]
  },
  {
   "cell_type": "markdown",
   "metadata": {},
   "source": [
    "6. How much has the company characteristically been spending on different advertising media (TV, radio, and newspaper) across the different markets for the past year? Calculate the median expenditure for each media:"
   ]
  },
  {
   "cell_type": "code",
   "execution_count": 18,
   "metadata": {},
   "outputs": [
    {
     "name": "stdout",
     "output_type": "stream",
     "text": [
      "149.75 22.9 25.75\n"
     ]
    }
   ],
   "source": [
    "median_tv_expenditure = np.median(tv)\n",
    "median_radio_expenditure = np.median(radio)\n",
    "median_newspaper_expenditure =  np.median(newspaper)\n",
    "\n",
    "print(median_tv_expenditure, median_radio_expenditure, median_newspaper_expenditure)"
   ]
  },
  {
   "cell_type": "markdown",
   "metadata": {},
   "source": [
    "7. How much has the company characteristically been spending on different advertising media (TV, radio, and newspaper) across the different markets for the past year? Calculate the IQR for each media:"
   ]
  },
  {
   "cell_type": "code",
   "execution_count": 17,
   "metadata": {},
   "outputs": [
    {
     "name": "stdout",
     "output_type": "stream",
     "text": [
      "144.45 26.549999999999997 32.35\n"
     ]
    }
   ],
   "source": [
    "# Replace None or <None> with appropriate code\n",
    "\n",
    "# make any imports here\n",
    "\n",
    "\n",
    "iqr_tv_expenditure = iqr(tv)\n",
    "iqr_radio_expenditure = iqr(radio)\n",
    "iqr_newspaper_expenditure = iqr(newspaper)\n",
    "\n",
    "print(iqr_tv_expenditure, iqr_radio_expenditure, iqr_newspaper_expenditure)"
   ]
  }
 ],
 "metadata": {
  "kernelspec": {
   "display_name": "learn-env",
   "language": "python",
   "name": "python3"
  },
  "language_info": {
   "codemirror_mode": {
    "name": "ipython",
    "version": 3
   },
   "file_extension": ".py",
   "mimetype": "text/x-python",
   "name": "python",
   "nbconvert_exporter": "python",
   "pygments_lexer": "ipython3",
   "version": "3.12.3"
  }
 },
 "nbformat": 4,
 "nbformat_minor": 2
}
